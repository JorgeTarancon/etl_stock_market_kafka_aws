{
 "cells": [
  {
   "cell_type": "code",
   "execution_count": 1,
   "metadata": {},
   "outputs": [],
   "source": [
    "from kafka import KafkaProducer\n",
    "import requests\n",
    "from json import dumps, loads\n",
    "from time import sleep\n",
    "import configparser"
   ]
  },
  {
   "cell_type": "code",
   "execution_count": 2,
   "metadata": {},
   "outputs": [],
   "source": [
    "config = configparser.ConfigParser()\n",
    "config.read('config.ini')\n",
    "\n",
    "# Read credentials\n",
    "ip_address = config.get('AWS','ip_address')\n",
    "topic_name = config.get('KAFKA','topic_name')\n",
    "port = config.get('KAFKA','port')\n",
    "yahoo_finance_host = config.get('YAHOO_FINANCE','host')\n",
    "yahoo_finance_api_key = config.get('YAHOO_FINANCE','api_key')"
   ]
  },
  {
   "cell_type": "code",
   "execution_count": 3,
   "metadata": {},
   "outputs": [],
   "source": [
    "producer = KafkaProducer(\n",
    "                        bootstrap_servers=f'{ip_address}:{port}',\n",
    "                        value_serializer=lambda x: dumps(x).encode('utf-8'))"
   ]
  },
  {
   "cell_type": "code",
   "execution_count": 4,
   "metadata": {},
   "outputs": [],
   "source": [
    "method = 'market/v2/get-quotes'\n",
    "url = f'https://{yahoo_finance_host}/{method}'\n",
    "\n",
    "headers = {\n",
    "\t\"X-RapidAPI-Key\": yahoo_finance_api_key,\n",
    "\t\"X-RapidAPI-Host\": yahoo_finance_host\n",
    "}\n",
    "querystring = {\"region\":\"US\"}"
   ]
  },
  {
   "cell_type": "code",
   "execution_count": 16,
   "metadata": {},
   "outputs": [],
   "source": [
    "#AAPL,IBM,MSFT,AMD,INTC,GOOG,FB,TSLA,AMZN,ORCL\n",
    "#ticker = str(input('Introduce ticker: ')).upper()\n",
    "\n",
    "tickers = ['AAPL','IBM','MSFT','AMD','INTC','GOOG','FB','TSLA','AMZN','ORCL','MMM','MCD','META','SPOT','IAG','ITX',\n",
    "\t\t\t'RIVN','VUSA','WRD','VFEM','XDJP','MO','PEP','NKE','USB','LMT','HII','FCPT','DLR','NSA','KNOP']\n",
    "for ticker in tickers:\n",
    "\n",
    "\tquerystring['symbols'] = ticker\n",
    "\n",
    "\tresponse = requests.request(\"GET\",\n",
    "\t\t\t\t\t\t\t\turl,\n",
    "\t\t\t\t\t\t\t\theaders=headers,\n",
    "\t\t\t\t\t\t\t\tparams=querystring)\n",
    "\n",
    "\tresponse = loads(response.text)\n",
    "\n",
    "\tproducer.send(topic_name, value=response)"
   ]
  },
  {
   "cell_type": "code",
   "execution_count": 7,
   "metadata": {},
   "outputs": [],
   "source": [
    "producer.flush()"
   ]
  }
 ],
 "metadata": {
  "kernelspec": {
   "display_name": "base",
   "language": "python",
   "name": "python3"
  },
  "language_info": {
   "codemirror_mode": {
    "name": "ipython",
    "version": 3
   },
   "file_extension": ".py",
   "mimetype": "text/x-python",
   "name": "python",
   "nbconvert_exporter": "python",
   "pygments_lexer": "ipython3",
   "version": "3.9.13"
  },
  "orig_nbformat": 4
 },
 "nbformat": 4,
 "nbformat_minor": 2
}
